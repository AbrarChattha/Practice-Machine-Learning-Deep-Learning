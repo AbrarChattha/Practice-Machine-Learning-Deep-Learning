{
 "cells": [
  {
   "cell_type": "markdown",
   "metadata": {},
   "source": [
    "# Quastion 1\n"
   ]
  },
  {
   "cell_type": "code",
   "execution_count": 16,
   "metadata": {},
   "outputs": [
    {
     "name": "stdout",
     "output_type": "stream",
     "text": [
      "enter marks math77\n",
      "enter marks Ai84\n",
      "enter marks english99\n",
      "Congrats! you pass the merit & get an admition\n"
     ]
    }
   ],
   "source": [
    "math=int(input('enter marks math'))\n",
    "ai=int(input('enter marks Ai'))\n",
    "eng=int(input('enter marks english'))\n",
    "if math>70:\n",
    "    if ai>70:\n",
    "        if eng > 70:\n",
    "            if math+ai+eng >210:\n",
    "                print(\"Congrats! you pass the merit & get an admition\" )\n",
    "            else :\n",
    "                 print(\"sorry you are not pass the merit\")\n",
    "    "
   ]
  },
  {
   "cell_type": "markdown",
   "metadata": {},
   "source": [
    "# Quastion 2"
   ]
  },
  {
   "cell_type": "code",
   "execution_count": 24,
   "metadata": {},
   "outputs": [
    {
     "name": "stdout",
     "output_type": "stream",
     "text": [
      "plz enter numbers100\n",
      "greater no is      100\n",
      "smaller no is      100\n",
      "plz enter numbers200\n",
      "greater no is      200\n",
      "smaller no is      100\n",
      "plz enter numbers300\n",
      "greater no is      300\n",
      "smaller no is      100\n"
     ]
    }
   ],
   "source": [
    "list1=[]\n",
    "for n in range(3):\n",
    "    no=int(input('plz enter numbers'))\n",
    "    list1.append(no)\n",
    "    print('greater no is     ' ,max(list1))\n",
    "    print('smaller no is     ' ,min(list1))\n",
    "    "
   ]
  },
  {
   "cell_type": "markdown",
   "metadata": {},
   "source": [
    "###### "
   ]
  },
  {
   "cell_type": "markdown",
   "metadata": {},
   "source": [
    "# quastion 3"
   ]
  },
  {
   "cell_type": "code",
   "execution_count": 1,
   "metadata": {},
   "outputs": [
    {
     "name": "stdout",
     "output_type": "stream",
     "text": [
      "enter for checking the year2020\n",
      "its leap yaer\n"
     ]
    }
   ],
   "source": [
    "year=int(input('enter for checking the year'))\n",
    "if (year%4==0 and year%100!=0 or year%400==0):\n",
    "    print(\"its leap yaer\")\n",
    "else:    \n",
    "    print('i is not leap year')"
   ]
  },
  {
   "cell_type": "markdown",
   "metadata": {},
   "source": [
    "# question 4"
   ]
  },
  {
   "cell_type": "code",
   "execution_count": 19,
   "metadata": {},
   "outputs": [
    {
     "name": "stdout",
     "output_type": "stream",
     "text": [
      "enter marks of subject67\n",
      "enter marks of subject99\n",
      "enter marks of subject88\n",
      "enter marks of subject77\n",
      "enter marks of subject88\n",
      "B\n"
     ]
    }
   ],
   "source": [
    "sub1=int(input('enter marks of subject'))\n",
    "sub2=int(input('enter marks of subject'))\n",
    "sub3=int(input('enter marks of subject'))\n",
    "sub4=int(input('enter marks of subject'))\n",
    "sub5=int(input('enter marks of subject'))\n",
    "avg=(sub1+sub2+sub3+sub4+sub5)/5\n",
    "if avg>=90:\n",
    "    print('grade A')\n",
    "elif avg >80 and avg<90:\n",
    "    print('B')\n",
    "elif avg>70 and avg<80:\n",
    "    print('C')\n",
    "else:\n",
    "    print('F')"
   ]
  },
  {
   "cell_type": "markdown",
   "metadata": {},
   "source": [
    "# question 5"
   ]
  },
  {
   "cell_type": "code",
   "execution_count": 4,
   "metadata": {},
   "outputs": [
    {
     "data": {
      "text/plain": [
       "[3, 2, 1]"
      ]
     },
     "execution_count": 4,
     "metadata": {},
     "output_type": "execute_result"
    }
   ],
   "source": [
    "a=[1,2,3]\n",
    "a.sort(reverse=True)\n",
    "a"
   ]
  },
  {
   "cell_type": "markdown",
   "metadata": {},
   "source": [
    "# question 6\n"
   ]
  },
  {
   "cell_type": "code",
   "execution_count": 5,
   "metadata": {},
   "outputs": [
    {
     "name": "stdout",
     "output_type": "stream",
     "text": [
      "plz enetr your age23\n",
      "age in months    = 276\n"
     ]
    }
   ],
   "source": [
    "age=int(input('plz enetr your age'))\n",
    "print('age in months    =',age*12)"
   ]
  },
  {
   "cell_type": "markdown",
   "metadata": {},
   "source": [
    "# question 7"
   ]
  },
  {
   "cell_type": "code",
   "execution_count": 10,
   "metadata": {},
   "outputs": [
    {
     "name": "stdout",
     "output_type": "stream",
     "text": [
      "before swape 10 20\n",
      "after swape 20 10\n"
     ]
    }
   ],
   "source": [
    "x=10\n",
    "y=20\n",
    "print('before swape',x,y )\n",
    "x=x+y\n",
    "y=x-y\n",
    "x=x-y\n",
    "print('after swape',x,y)"
   ]
  },
  {
   "cell_type": "markdown",
   "metadata": {},
   "source": [
    "# question 8"
   ]
  },
  {
   "cell_type": "code",
   "execution_count": 18,
   "metadata": {},
   "outputs": [
    {
     "name": "stdout",
     "output_type": "stream",
     "text": [
      "Even number in this range is  True\n"
     ]
    },
    {
     "ename": "TypeError",
     "evalue": "'int' object is not iterable",
     "output_type": "error",
     "traceback": [
      "\u001b[1;31m---------------------------------------------------------------------------\u001b[0m",
      "\u001b[1;31mTypeError\u001b[0m                                 Traceback (most recent call last)",
      "\u001b[1;32m<ipython-input-18-138a38494cf0>\u001b[0m in \u001b[0;36m<module>\u001b[1;34m\u001b[0m\n\u001b[0;32m     13\u001b[0m \u001b[1;33m\u001b[0m\u001b[0m\n\u001b[0;32m     14\u001b[0m     \u001b[0mprint\u001b[0m\u001b[1;33m(\u001b[0m\u001b[1;34m'Even number in this range is '\u001b[0m\u001b[1;33m,\u001b[0m\u001b[0mno\u001b[0m\u001b[1;33m%\u001b[0m\u001b[1;36m2\u001b[0m\u001b[1;33m==\u001b[0m\u001b[1;36m0\u001b[0m\u001b[1;33m)\u001b[0m\u001b[1;33m\u001b[0m\u001b[1;33m\u001b[0m\u001b[0m\n\u001b[1;32m---> 15\u001b[1;33m     \u001b[0mprint\u001b[0m\u001b[1;33m(\u001b[0m\u001b[1;34m'greater no is     '\u001b[0m \u001b[1;33m,\u001b[0m\u001b[0mmax\u001b[0m\u001b[1;33m(\u001b[0m\u001b[0mno\u001b[0m\u001b[1;33m)\u001b[0m\u001b[1;33m)\u001b[0m\u001b[1;33m\u001b[0m\u001b[1;33m\u001b[0m\u001b[0m\n\u001b[0m\u001b[0;32m     16\u001b[0m     \u001b[0mprint\u001b[0m\u001b[1;33m(\u001b[0m\u001b[1;34m'smaller no is     '\u001b[0m \u001b[1;33m,\u001b[0m\u001b[0mmin\u001b[0m\u001b[1;33m(\u001b[0m\u001b[0mno1\u001b[0m\u001b[1;33m)\u001b[0m\u001b[1;33m)\u001b[0m\u001b[1;33m\u001b[0m\u001b[1;33m\u001b[0m\u001b[0m\n\u001b[0;32m     17\u001b[0m \u001b[1;33m\u001b[0m\u001b[0m\n",
      "\u001b[1;31mTypeError\u001b[0m: 'int' object is not iterable"
     ]
    }
   ],
   "source": [
    "a=1\n",
    "b=50\n",
    "for num in range(a,b):\n",
    "    \n",
    "    if num>1:\n",
    "        \n",
    "        for i in range(2,num):\n",
    "            if (num%i)==0:\n",
    "                break\n",
    "                       \n",
    "        else:    \n",
    "            print(num)\n",
    "    \n",
    "    print('Even number in this range is ',no%2==0)\n",
    "    print('greater no is     ' ,max(no))\n",
    "    print('smaller no is     ' ,min(no1))\n",
    "    "
   ]
  },
  {
   "cell_type": "markdown",
   "metadata": {},
   "source": [
    "#### "
   ]
  },
  {
   "cell_type": "code",
   "execution_count": 22,
   "metadata": {},
   "outputs": [
    {
     "data": {
      "text/plain": [
       "range(1, 50)"
      ]
     },
     "execution_count": 22,
     "metadata": {},
     "output_type": "execute_result"
    }
   ],
   "source": [
    "a=range(1,50)\n",
    "a\n"
   ]
  },
  {
   "cell_type": "markdown",
   "metadata": {},
   "source": [
    "# question 9"
   ]
  },
  {
   "cell_type": "code",
   "execution_count": 16,
   "metadata": {},
   "outputs": [
    {
     "name": "stdout",
     "output_type": "stream",
     "text": [
      "2\n",
      "3\n",
      "5\n",
      "7\n",
      "11\n",
      "13\n",
      "17\n",
      "19\n",
      "23\n",
      "29\n",
      "31\n",
      "37\n",
      "41\n",
      "43\n",
      "47\n"
     ]
    }
   ],
   "source": [
    "a=1\n",
    "b=50\n",
    "for num in range(a,b):\n",
    "    \n",
    "    if num>1:\n",
    "        \n",
    "        for i in range(2,num):\n",
    "            if (num%i)==0:\n",
    "                break\n",
    "                       \n",
    "        else:    \n",
    "            print(num)\n",
    "\n"
   ]
  },
  {
   "cell_type": "markdown",
   "metadata": {},
   "source": [
    "# question 10"
   ]
  },
  {
   "cell_type": "code",
   "execution_count": 14,
   "metadata": {},
   "outputs": [
    {
     "name": "stdout",
     "output_type": "stream",
     "text": [
      "enter any number7\n",
      "yes its positive number\n",
      " 0 for exit 0\n",
      "0\n"
     ]
    }
   ],
   "source": [
    "\n",
    "choice=0\n",
    "choice=int(input(\"enter any number\"))\n",
    "while (choice != '0'):\n",
    "    choice=choice+1\n",
    "    if choice > 0:\n",
    "        print('yes its positive number')\n",
    "    elif choice<0:\n",
    "        print('yes its negative number')\n",
    "    else:\n",
    "        print('end')\n",
    "    \n",
    "    choice=int(input(\" 0 for exit \")   ) \n",
    "    print(choice)    \n",
    "    break"
   ]
  },
  {
   "cell_type": "markdown",
   "metadata": {},
   "source": [
    "#### "
   ]
  },
  {
   "cell_type": "code",
   "execution_count": null,
   "metadata": {},
   "outputs": [],
   "source": []
  }
 ],
 "metadata": {
  "kernelspec": {
   "display_name": "Python 3",
   "language": "python",
   "name": "python3"
  },
  "language_info": {
   "codemirror_mode": {
    "name": "ipython",
    "version": 3
   },
   "file_extension": ".py",
   "mimetype": "text/x-python",
   "name": "python",
   "nbconvert_exporter": "python",
   "pygments_lexer": "ipython3",
   "version": "3.7.6"
  }
 },
 "nbformat": 4,
 "nbformat_minor": 4
}
